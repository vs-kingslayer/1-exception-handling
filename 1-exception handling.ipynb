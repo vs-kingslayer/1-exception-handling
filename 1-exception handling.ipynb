{
 "cells": [
  {
   "cell_type": "markdown",
   "id": "cf239c9e-16f0-407f-9038-ca3f812e4942",
   "metadata": {},
   "source": [
    "Q1."
   ]
  },
  {
   "cell_type": "code",
   "execution_count": 3,
   "id": "0fdf2863-f7c2-4e22-89a1-a72956dbd76e",
   "metadata": {},
   "outputs": [
    {
     "name": "stdout",
     "output_type": "stream",
     "text": [
      "this is my file\n"
     ]
    }
   ],
   "source": [
    "#exception handling is used to handle the run time error\n",
    "\n",
    "#for example:\n",
    "\n",
    "try:\n",
    "    f=open(\"text.txt\",'w')\n",
    "    print(\"this is my file\")\n",
    "\n",
    "except Exception as e:\n",
    "    print(\"this is excepton block\")"
   ]
  },
  {
   "cell_type": "markdown",
   "id": "af833b25-e266-4e0e-82f5-5a911ee5c628",
   "metadata": {},
   "source": [
    "Q2."
   ]
  },
  {
   "cell_type": "code",
   "execution_count": 4,
   "id": "8fbe770b-8ddf-4591-bc67-b814219727f7",
   "metadata": {},
   "outputs": [
    {
     "ename": "SyntaxError",
     "evalue": "incomplete input (1172408112.py, line 3)",
     "output_type": "error",
     "traceback": [
      "\u001b[0;36m  Cell \u001b[0;32mIn[4], line 3\u001b[0;36m\u001b[0m\n\u001b[0;31m    print(\"this is an file\")\u001b[0m\n\u001b[0m                            ^\u001b[0m\n\u001b[0;31mSyntaxError\u001b[0m\u001b[0;31m:\u001b[0m incomplete input\n"
     ]
    }
   ],
   "source": [
    "try:\n",
    "    f=open(\"text1.txt\",'w')\n",
    "    print(\"this is an file\")"
   ]
  },
  {
   "cell_type": "markdown",
   "id": "b50a5d0d-8396-4c8e-ad91-9114e2944986",
   "metadata": {},
   "source": [
    "Q3."
   ]
  },
  {
   "cell_type": "code",
   "execution_count": 1,
   "id": "c2b01f59-dac9-44b3-864b-3041d4cacd2d",
   "metadata": {},
   "outputs": [
    {
     "name": "stdout",
     "output_type": "stream",
     "text": [
      "this is an file\n"
     ]
    }
   ],
   "source": [
    "#try and except is used to handle the exception\n",
    "\n",
    "\n",
    "#for example:\n",
    "\n",
    "try:\n",
    "    f=open(\"text2.txt\",'w')\n",
    "    print(\"this is an file\")\n",
    "except Exception as e:\n",
    "    print(\"this is my exception block\")"
   ]
  },
  {
   "cell_type": "markdown",
   "id": "29efdffd-1c61-4e1f-a027-89c89d311dcd",
   "metadata": {},
   "source": [
    "Q4."
   ]
  },
  {
   "cell_type": "code",
   "execution_count": 2,
   "id": "7ffca466-efee-4bd8-a962-1bcd1451f08c",
   "metadata": {},
   "outputs": [
    {
     "name": "stdout",
     "output_type": "stream",
     "text": [
      "hlo world\n"
     ]
    }
   ],
   "source": [
    "#try and else:\n",
    "\n",
    "try:\n",
    "    f=open(\"text1.txt\",'w')\n",
    "    f.write(\"this is my own file\")\n",
    "except Exception as e:\n",
    "    print(\"this is my exception block\")\n",
    "else:\n",
    "    print(\"hlo world\")"
   ]
  },
  {
   "cell_type": "code",
   "execution_count": 3,
   "id": "d1380c5b-4510-4c2f-ab90-855c2357897a",
   "metadata": {},
   "outputs": [
    {
     "name": "stdout",
     "output_type": "stream",
     "text": [
      "this is my life my rule\n"
     ]
    }
   ],
   "source": [
    "#finally:\n",
    "\n",
    "try:\n",
    "    f=open(\"text1.txt\",'w')\n",
    "    f.write(\"this is my own file\")\n",
    "finally:\n",
    "    print(\"this is my life my rule\")"
   ]
  },
  {
   "cell_type": "code",
   "execution_count": 4,
   "id": "95c02cda-3fd0-46f6-908b-8c482ef7c372",
   "metadata": {},
   "outputs": [],
   "source": [
    "#raise:\n",
    "\n",
    "class vaildateage(Exception):\n",
    "    def __init__(self,msg):\n",
    "        self.msg=msg\n",
    "\n"
   ]
  },
  {
   "cell_type": "code",
   "execution_count": 5,
   "id": "66907e9d-17a0-4bf6-8c27-936603e3cd8b",
   "metadata": {},
   "outputs": [],
   "source": [
    "def vaildateage(age):\n",
    "    if age<0:\n",
    "        raise vaildateage(\"this is negative\")\n",
    "    elif age>200:\n",
    "        raise vaildateage(\"thsi is over\")\n",
    "    else:\n",
    "        print(\"entered age is vaild\")\n",
    "        "
   ]
  },
  {
   "cell_type": "code",
   "execution_count": null,
   "id": "177c9475-69ca-4226-b9f5-bc770d79e1b3",
   "metadata": {},
   "outputs": [],
   "source": [
    "try:\n",
    "    age = int(input(\"enter your age\"))\n",
    "    vaildateage(age)\n"
   ]
  }
 ],
 "metadata": {
  "kernelspec": {
   "display_name": "Python 3 (ipykernel)",
   "language": "python",
   "name": "python3"
  },
  "language_info": {
   "codemirror_mode": {
    "name": "ipython",
    "version": 3
   },
   "file_extension": ".py",
   "mimetype": "text/x-python",
   "name": "python",
   "nbconvert_exporter": "python",
   "pygments_lexer": "ipython3",
   "version": "3.10.8"
  }
 },
 "nbformat": 4,
 "nbformat_minor": 5
}
